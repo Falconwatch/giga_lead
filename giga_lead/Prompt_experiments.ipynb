{
 "cells": [
  {
   "cell_type": "code",
   "execution_count": 1,
   "metadata": {},
   "outputs": [],
   "source": [
    "from news_leadgen.news_handler import NewsHandler\n",
    "from news_leadgen.dto.newsdto import NewsDTO \n",
    "import pandas as pd\n",
    "from gigachat.models import Chat, Messages, MessagesRole"
   ]
  },
  {
   "cell_type": "code",
   "execution_count": 10,
   "metadata": {},
   "outputs": [],
   "source": [
    "from news_leadgen.giga_wrappers.giga_wrappers import GigaWrapperInternet\n",
    "#В качестве base_prompt можно передать базовый системный промпт, используемый ботом в режиме call (в режиме call_dialog он будет проигнорирован)\n",
    "gw = GigaWrapperInternet(base_prompt=\"\")"
   ]
  },
  {
   "cell_type": "code",
   "execution_count": null,
   "metadata": {},
   "outputs": [],
   "source": []
  },
  {
   "cell_type": "markdown",
   "metadata": {},
   "source": [
    "# Примеры обращения"
   ]
  },
  {
   "cell_type": "markdown",
   "metadata": {},
   "source": [
    "## Передача в диалоговом режиме"
   ]
  },
  {
   "cell_type": "code",
   "execution_count": 11,
   "metadata": {},
   "outputs": [],
   "source": [
    "messages=[\n",
    "    Messages(role=MessagesRole.SYSTEM, content = \"Ты бот-помощник. Отвечай не фантазируя\"),\n",
    "    Messages(role=MessagesRole.USER, content= \"Что ты умеешь?\"),\n",
    "    Messages(role=MessagesRole.ASSISTANT, content = \"Я умею всё, кроме фантазирования\"),\n",
    "    Messages(role=MessagesRole.USER, content= \"Как тебя зовут?\")\n",
    "]\n"
   ]
  },
  {
   "cell_type": "code",
   "execution_count": 16,
   "metadata": {},
   "outputs": [
    {
     "name": "stdout",
     "output_type": "stream",
     "text": [
      "Я — бот-помощник\n"
     ]
    }
   ],
   "source": [
    "response = gw.call_dialog(messages)\n",
    "print(response)"
   ]
  },
  {
   "cell_type": "markdown",
   "metadata": {},
   "source": [
    "## Передача в формате одного сообщения"
   ]
  },
  {
   "cell_type": "code",
   "execution_count": 13,
   "metadata": {},
   "outputs": [],
   "source": [
    "my_single_message = \"Какие новости?\""
   ]
  },
  {
   "cell_type": "code",
   "execution_count": 17,
   "metadata": {},
   "outputs": [
    {
     "name": "stdout",
     "output_type": "stream",
     "text": [
      "Я не могу предоставить вам актуальные новости, так как я являюсь моделью искусственного интеллекта и не имею доступа к интернету. Однако, если у вас есть конкретные вопросы или темы, которые вы хотели бы обсудить, я с радостью помогу вам в этом.\n"
     ]
    }
   ],
   "source": [
    "response2 = gw.call(my_single_message)\n",
    "print(response2)"
   ]
  },
  {
   "cell_type": "markdown",
   "metadata": {},
   "source": [
    "# Чтение новостей из файла"
   ]
  },
  {
   "cell_type": "code",
   "execution_count": 20,
   "metadata": {},
   "outputs": [
    {
     "data": {
      "text/html": [
       "<div>\n",
       "<style scoped>\n",
       "    .dataframe tbody tr th:only-of-type {\n",
       "        vertical-align: middle;\n",
       "    }\n",
       "\n",
       "    .dataframe tbody tr th {\n",
       "        vertical-align: top;\n",
       "    }\n",
       "\n",
       "    .dataframe thead th {\n",
       "        text-align: right;\n",
       "    }\n",
       "</style>\n",
       "<table border=\"1\" class=\"dataframe\">\n",
       "  <thead>\n",
       "    <tr style=\"text-align: right;\">\n",
       "      <th></th>\n",
       "      <th>index</th>\n",
       "      <th>text</th>\n",
       "    </tr>\n",
       "  </thead>\n",
       "  <tbody>\n",
       "    <tr>\n",
       "      <th>0</th>\n",
       "      <td>ef2730c48257bbee6e68354038acd1ee</td>\n",
       "      <td>34 просмотра Вот уже ровно год, как Атырау ру...</td>\n",
       "    </tr>\n",
       "    <tr>\n",
       "      <th>1</th>\n",
       "      <td>e08e3641050bdabf89c99c518033ff93</td>\n",
       "      <td>Династия Беркутовых — легенда, золотой фонд Н...</td>\n",
       "    </tr>\n",
       "    <tr>\n",
       "      <th>2</th>\n",
       "      <td>fa2dd0fe1b710cd458ec28ce8e46e3b4</td>\n",
       "      <td>​Комплекс легкой промышленности \"Кунцево\" на ...</td>\n",
       "    </tr>\n",
       "    <tr>\n",
       "      <th>3</th>\n",
       "      <td>dbd9b659184aa8236f3237dfdb2c6e88</td>\n",
       "      <td>КНАУФ – крупнейший международный производител...</td>\n",
       "    </tr>\n",
       "    <tr>\n",
       "      <th>4</th>\n",
       "      <td>c8c055fd05d3d1329bd366c3c7bd61f0</td>\n",
       "      <td>Новости ДонЭкспоцентр : Встряска в событийном...</td>\n",
       "    </tr>\n",
       "  </tbody>\n",
       "</table>\n",
       "</div>"
      ],
      "text/plain": [
       "                              index  \\\n",
       "0  ef2730c48257bbee6e68354038acd1ee   \n",
       "1  e08e3641050bdabf89c99c518033ff93   \n",
       "2  fa2dd0fe1b710cd458ec28ce8e46e3b4   \n",
       "3  dbd9b659184aa8236f3237dfdb2c6e88   \n",
       "4  c8c055fd05d3d1329bd366c3c7bd61f0   \n",
       "\n",
       "                                                text  \n",
       "0   34 просмотра Вот уже ровно год, как Атырау ру...  \n",
       "1   Династия Беркутовых — легенда, золотой фонд Н...  \n",
       "2   ​Комплекс легкой промышленности \"Кунцево\" на ...  \n",
       "3   КНАУФ – крупнейший международный производител...  \n",
       "4   Новости ДонЭкспоцентр : Встряска в событийном...  "
      ]
     },
     "execution_count": 20,
     "metadata": {},
     "output_type": "execute_result"
    }
   ],
   "source": [
    "news_data = pd.read_excel(\"data/Отказы MediaAnalysis_text 10М2023.xlsx\", sheet_name=0)[[\"index\", \"text\"]]\n",
    "news_data.head()"
   ]
  }
 ],
 "metadata": {
  "kernelspec": {
   "display_name": "venv",
   "language": "python",
   "name": "python3"
  },
  "language_info": {
   "codemirror_mode": {
    "name": "ipython",
    "version": 3
   },
   "file_extension": ".py",
   "mimetype": "text/x-python",
   "name": "python",
   "nbconvert_exporter": "python",
   "pygments_lexer": "ipython3",
   "version": "3.10.0"
  },
  "orig_nbformat": 4
 },
 "nbformat": 4,
 "nbformat_minor": 2
}
