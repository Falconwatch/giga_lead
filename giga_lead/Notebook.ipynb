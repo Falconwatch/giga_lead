{
 "cells": [
  {
   "cell_type": "code",
   "execution_count": 61,
   "metadata": {},
   "outputs": [],
   "source": [
    "from news_leadgen.news_handler import NewsHandler\n",
    "from news_leadgen.dto.newsdto import NewsDTO \n",
    "import pandas as pd"
   ]
  },
  {
   "cell_type": "markdown",
   "metadata": {},
   "source": [
    "# Чтение вопросов к новостям"
   ]
  },
  {
   "cell_type": "code",
   "execution_count": 62,
   "metadata": {},
   "outputs": [],
   "source": [
    "with open(\"questions.txt\", \"r\") as f:\n",
    "    txt =f.read()\n",
    "questions = txt.split('\\n')"
   ]
  },
  {
   "cell_type": "markdown",
   "metadata": {},
   "source": [
    "# Чтение новостей из файла"
   ]
  },
  {
   "cell_type": "code",
   "execution_count": 63,
   "metadata": {},
   "outputs": [],
   "source": [
    "news_data = pd.read_excel(\"Отказы MediaAnalysis_text 10М2023.xlsx\", sheet_name=0)[[\"index\", \"text\"]]\n",
    "data = news_data.values\n",
    "\n",
    "all_news = list()\n",
    "for news_arr in data:\n",
    "    all_news.append(NewsDTO(news_id=news_arr[0], text=news_arr[1]))"
   ]
  },
  {
   "cell_type": "markdown",
   "metadata": {},
   "source": [
    "# Обработка новостей"
   ]
  },
  {
   "cell_type": "code",
   "execution_count": 64,
   "metadata": {},
   "outputs": [],
   "source": [
    "nh = NewsHandler(questions = questions)"
   ]
  },
  {
   "cell_type": "code",
   "execution_count": 65,
   "metadata": {},
   "outputs": [
    {
     "name": "stdout",
     "output_type": "stream",
     "text": [
      "Тебе дан список вопросов и одна новость. Ответь на вопросы, при подготовке ответа не фантазируй. \n",
      "        Если не знаешь ответа, так и скажи.\n",
      "        Вопросы:0) Содержит ли текст новости информацию о строительстве, модернизации или расширении какого-либо промышленного, жилого, коммерческого объекта (или его части) или реализации инфраструктурного, инновационного проекта, который банк может профинансировать, ответь только ДА или НЕТ\n",
      "1) Если текст новости содержит информацию о строительстве, модернизации или расширении какого-либо промышленного, жилого, коммерческого объекта (или его части) или реализации инфраструктурного, инновационного проекта, который банк может профинансировать, напиши краткое описание новости на 400 символов.\n",
      "2) Напиши название компании о которой идёт речь в новости\n",
      "3) Напиши регион о котором идёт речь в новости\n",
      "4) Напиши ФИО действующих лиц о которых идёт речь в новости\n",
      "5) Напиши тип инвестиционного проекта: промышленный, жилой, коммерческий, инфраструктурный, инновационный, который содержится в новости, напиши только один тип, если типов несколько выбери приоритетный\n",
      "6) Напиши возможный объём финансирования со стороны банка исходя из текста новости, напиши сумму в рублях и только её.\n",
      "7) Событие строительства, модернизации или расширения какого-либо промышленного, жилого, коммерческого объекта (или его части) или реализации инфраструктурного, инновационного проекта о котором идёт речь в новости уже произошло или речь идет о будущем с точки зрения перспективы финансирования банком, ответь строго ДА или НЕТ\n",
      "8) Напиши квартал и год строительства, модернизации или расширения какого-либо промышленного, жилого, коммерческого объекта (или его части) или реализации инфраструктурного, инновационного проекта о котором идёт речь в новости, напиши квартал и год.\n",
      "9) Происходит ли событие новости в России и ответь только ДА или НЕТ\n",
      "10) За чей счёт будет финансирование исходя из новости, если есть информация, если это банк или организация, напиши только её название,\n",
      "        Новость: None,\n",
      "        Ответы:\n"
     ]
    }
   ],
   "source": [
    "print(nh._get_questions_as_one_prompt())"
   ]
  },
  {
   "cell_type": "markdown",
   "metadata": {},
   "source": [
    "## По одной"
   ]
  },
  {
   "cell_type": "code",
   "execution_count": 74,
   "metadata": {},
   "outputs": [
    {
     "ename": "ValidationError",
     "evalue": "1 validation error for Messages\ncontent\n  str type expected (type=type_error.str)",
     "output_type": "error",
     "traceback": [
      "\u001b[1;31m---------------------------------------------------------------------------\u001b[0m",
      "\u001b[1;31mValidationError\u001b[0m                           Traceback (most recent call last)",
      "\u001b[1;32m~\\AppData\\Local\\Temp/ipykernel_19724/3224042426.py\u001b[0m in \u001b[0;36m<module>\u001b[1;34m\u001b[0m\n\u001b[0;32m      1\u001b[0m \u001b[1;31m# возвращается сет: объект с результатом разбора (айди новости, ответ сети) и список заданных сети вопросов\u001b[0m\u001b[1;33m\u001b[0m\u001b[1;33m\u001b[0m\u001b[0m\n\u001b[0;32m      2\u001b[0m \u001b[1;33m\u001b[0m\u001b[0m\n\u001b[1;32m----> 3\u001b[1;33m \u001b[0mone_news_processing_result\u001b[0m\u001b[1;33m,\u001b[0m \u001b[0m_\u001b[0m \u001b[1;33m=\u001b[0m \u001b[0mnh\u001b[0m\u001b[1;33m.\u001b[0m\u001b[0mprocess_news\u001b[0m\u001b[1;33m(\u001b[0m\u001b[0mall_news\u001b[0m\u001b[1;33m[\u001b[0m\u001b[1;36m1\u001b[0m\u001b[1;33m]\u001b[0m\u001b[1;33m)\u001b[0m\u001b[1;33m\u001b[0m\u001b[1;33m\u001b[0m\u001b[0m\n\u001b[0m",
      "\u001b[1;32mc:\\Users\\21444528\\Documents\\GigaLead\\giga_lead\\giga_lead\\news_leadgen\\news_handler.py\u001b[0m in \u001b[0;36mprocess_news\u001b[1;34m(self, one_news)\u001b[0m\n\u001b[0;32m     67\u001b[0m         \u001b[0mone_news_payload\u001b[0m \u001b[1;33m=\u001b[0m \u001b[0mself\u001b[0m\u001b[1;33m.\u001b[0m\u001b[0m_prepare_questions_as_one_prompt\u001b[0m\u001b[1;33m(\u001b[0m\u001b[0mone_news\u001b[0m\u001b[1;33m.\u001b[0m\u001b[0mtext\u001b[0m\u001b[1;33m)\u001b[0m\u001b[1;33m\u001b[0m\u001b[1;33m\u001b[0m\u001b[0m\n\u001b[0;32m     68\u001b[0m         \u001b[1;31m#one_news_payload = self._prepare_questions_as_many_prompts(one_news.text)\u001b[0m\u001b[1;33m\u001b[0m\u001b[1;33m\u001b[0m\u001b[0m\n\u001b[1;32m---> 69\u001b[1;33m         \u001b[0mprint\u001b[0m\u001b[1;33m(\u001b[0m\u001b[0mone_news\u001b[0m\u001b[1;33m.\u001b[0m\u001b[0mtext\u001b[0m\u001b[1;33m)\u001b[0m\u001b[1;33m\u001b[0m\u001b[1;33m\u001b[0m\u001b[0m\n\u001b[0m\u001b[0;32m     70\u001b[0m         \u001b[0mmodel_response\u001b[0m \u001b[1;33m=\u001b[0m \u001b[0mself\u001b[0m\u001b[1;33m.\u001b[0m\u001b[0m_giga_call\u001b[0m\u001b[1;33m(\u001b[0m\u001b[0mone_news_payload\u001b[0m\u001b[1;33m)\u001b[0m\u001b[1;33m\u001b[0m\u001b[1;33m\u001b[0m\u001b[0m\n\u001b[0;32m     71\u001b[0m         processing_result = ProcessedNewsDTO(news_id=one_news.news_id,\n",
      "\u001b[1;32mc:\\Users\\21444528\\Documents\\GigaLead\\giga_lead\\giga_lead\\news_leadgen\\news_handler.py\u001b[0m in \u001b[0;36m_giga_call\u001b[1;34m(self, msg)\u001b[0m\n\u001b[0;32m     28\u001b[0m \u001b[1;33m\u001b[0m\u001b[0m\n\u001b[0;32m     29\u001b[0m     \u001b[1;32mdef\u001b[0m \u001b[0m_giga_call\u001b[0m\u001b[1;33m(\u001b[0m\u001b[0mself\u001b[0m\u001b[1;33m,\u001b[0m \u001b[0mmsg\u001b[0m\u001b[1;33m:\u001b[0m \u001b[0mstr\u001b[0m\u001b[1;33m)\u001b[0m \u001b[1;33m->\u001b[0m \u001b[0mstr\u001b[0m\u001b[1;33m:\u001b[0m\u001b[1;33m\u001b[0m\u001b[1;33m\u001b[0m\u001b[0m\n\u001b[1;32m---> 30\u001b[1;33m         \u001b[0mresponse\u001b[0m \u001b[1;33m=\u001b[0m \u001b[0mself\u001b[0m\u001b[1;33m.\u001b[0m\u001b[0m_giga_wrapper\u001b[0m\u001b[1;33m.\u001b[0m\u001b[0mcall\u001b[0m\u001b[1;33m(\u001b[0m\u001b[0mmsg\u001b[0m\u001b[1;33m)\u001b[0m\u001b[1;33m\u001b[0m\u001b[1;33m\u001b[0m\u001b[0m\n\u001b[0m\u001b[0;32m     31\u001b[0m         \u001b[1;32mreturn\u001b[0m \u001b[0mresponse\u001b[0m\u001b[1;33m\u001b[0m\u001b[1;33m\u001b[0m\u001b[0m\n\u001b[0;32m     32\u001b[0m \u001b[1;33m\u001b[0m\u001b[0m\n",
      "\u001b[1;32mc:\\Users\\21444528\\Documents\\GigaLead\\giga_lead\\giga_lead\\news_leadgen\\giga_wrappers\\giga_wrappers.py\u001b[0m in \u001b[0;36mcall\u001b[1;34m(self, msg)\u001b[0m\n\u001b[0;32m     22\u001b[0m                         messages=[\n\u001b[0;32m     23\u001b[0m                             \u001b[0mMessages\u001b[0m\u001b[1;33m(\u001b[0m\u001b[0mrole\u001b[0m\u001b[1;33m=\u001b[0m\u001b[0mMessagesRole\u001b[0m\u001b[1;33m.\u001b[0m\u001b[0mSYSTEM\u001b[0m\u001b[1;33m,\u001b[0m \u001b[0mcontent\u001b[0m \u001b[1;33m=\u001b[0m \u001b[0mself\u001b[0m\u001b[1;33m.\u001b[0m\u001b[0m_base_promt\u001b[0m\u001b[1;33m)\u001b[0m\u001b[1;33m,\u001b[0m\u001b[1;33m\u001b[0m\u001b[1;33m\u001b[0m\u001b[0m\n\u001b[1;32m---> 24\u001b[1;33m                             Messages(role=MessagesRole.USER, content=msg)],\n\u001b[0m\u001b[0;32m     25\u001b[0m                         \u001b[0mtemperature\u001b[0m\u001b[1;33m=\u001b[0m\u001b[1;36m0.001\u001b[0m\u001b[1;33m,\u001b[0m\u001b[1;33m\u001b[0m\u001b[1;33m\u001b[0m\u001b[0m\n\u001b[0;32m     26\u001b[0m                         \u001b[0mmax_tokens\u001b[0m\u001b[1;33m=\u001b[0m\u001b[1;36m1000\u001b[0m\u001b[1;33m,\u001b[0m\u001b[1;33m\u001b[0m\u001b[1;33m\u001b[0m\u001b[0m\n",
      "\u001b[1;32mc:\\Anaconda3\\lib\\site-packages\\pydantic\\v1\\main.py\u001b[0m in \u001b[0;36m__init__\u001b[1;34m(__pydantic_self__, **data)\u001b[0m\n\u001b[0;32m    339\u001b[0m         \u001b[0mvalues\u001b[0m\u001b[1;33m,\u001b[0m \u001b[0mfields_set\u001b[0m\u001b[1;33m,\u001b[0m \u001b[0mvalidation_error\u001b[0m \u001b[1;33m=\u001b[0m \u001b[0mvalidate_model\u001b[0m\u001b[1;33m(\u001b[0m\u001b[0m__pydantic_self__\u001b[0m\u001b[1;33m.\u001b[0m\u001b[0m__class__\u001b[0m\u001b[1;33m,\u001b[0m \u001b[0mdata\u001b[0m\u001b[1;33m)\u001b[0m\u001b[1;33m\u001b[0m\u001b[1;33m\u001b[0m\u001b[0m\n\u001b[0;32m    340\u001b[0m         \u001b[1;32mif\u001b[0m \u001b[0mvalidation_error\u001b[0m\u001b[1;33m:\u001b[0m\u001b[1;33m\u001b[0m\u001b[1;33m\u001b[0m\u001b[0m\n\u001b[1;32m--> 341\u001b[1;33m             \u001b[1;32mraise\u001b[0m \u001b[0mvalidation_error\u001b[0m\u001b[1;33m\u001b[0m\u001b[1;33m\u001b[0m\u001b[0m\n\u001b[0m\u001b[0;32m    342\u001b[0m         \u001b[1;32mtry\u001b[0m\u001b[1;33m:\u001b[0m\u001b[1;33m\u001b[0m\u001b[1;33m\u001b[0m\u001b[0m\n\u001b[0;32m    343\u001b[0m             \u001b[0mobject_setattr\u001b[0m\u001b[1;33m(\u001b[0m\u001b[0m__pydantic_self__\u001b[0m\u001b[1;33m,\u001b[0m \u001b[1;34m'__dict__'\u001b[0m\u001b[1;33m,\u001b[0m \u001b[0mvalues\u001b[0m\u001b[1;33m)\u001b[0m\u001b[1;33m\u001b[0m\u001b[1;33m\u001b[0m\u001b[0m\n",
      "\u001b[1;31mValidationError\u001b[0m: 1 validation error for Messages\ncontent\n  str type expected (type=type_error.str)"
     ]
    }
   ],
   "source": [
    "# возвращается сет: объект с результатом разбора (айди новости, ответ сети) и список заданных сети вопросов\n",
    "\n",
    "one_news_processing_result, _ = nh.process_news(all_news[1])"
   ]
  },
  {
   "cell_type": "code",
   "execution_count": 25,
   "metadata": {},
   "outputs": [
    {
     "name": "stdout",
     "output_type": "stream",
     "text": [
      "1. Главная проблема в Нижнем Тагиле — отток молодежи. Для решения этой проблемы необходимо сделать город более привлекательным для молодежи, предоставить им возможности для получения образования, стабильной работы с хорошим заработком, а также обеспечить доступность яслей и детских садов, школ.\n",
      "2. Рекордный бюджет города позволит реализовать множество проектов по благоустройству города, развитию туризма, созданию комфортных условий для жителей.\n",
      "3. Успевать все это удается благодаря опыту и профессионализму руководства города, а также тесному взаимодействию с жителями и поддержке местных предприятий.\n"
     ]
    }
   ],
   "source": [
    "print(one_news_processing_result.processing_result[0])"
   ]
  },
  {
   "cell_type": "markdown",
   "metadata": {},
   "source": [
    "## пачкой"
   ]
  },
  {
   "cell_type": "code",
   "execution_count": 10,
   "metadata": {},
   "outputs": [],
   "source": [
    "#выделяю часть новостей чтобы не ждать обрабутку всех\n",
    "news_batch = all_news[:3]"
   ]
  },
  {
   "cell_type": "code",
   "execution_count": 11,
   "metadata": {},
   "outputs": [],
   "source": [
    "#результат - массив, каждый элемент которого это сет\n",
    "#Состав сета: объект с резултьатом разбора (айди новости, ответ сети) и список заданных сети вопросов\n",
    "news_processing_batch = nh.batch_process_news(news_batch)"
   ]
  },
  {
   "cell_type": "code",
   "execution_count": 12,
   "metadata": {},
   "outputs": [],
   "source": [
    "npb_list = list()\n",
    "for npr in news_processing_batch:\n",
    "    npb_list.append((npr[1], npr[0].news_id, npr[0].processing_result))"
   ]
  },
  {
   "cell_type": "code",
   "execution_count": 26,
   "metadata": {},
   "outputs": [
    {
     "data": {
      "text/html": [
       "<div>\n",
       "<style scoped>\n",
       "    .dataframe tbody tr th:only-of-type {\n",
       "        vertical-align: middle;\n",
       "    }\n",
       "\n",
       "    .dataframe tbody tr th {\n",
       "        vertical-align: top;\n",
       "    }\n",
       "\n",
       "    .dataframe thead th {\n",
       "        text-align: right;\n",
       "    }\n",
       "</style>\n",
       "<table border=\"1\" class=\"dataframe\">\n",
       "  <thead>\n",
       "    <tr style=\"text-align: right;\">\n",
       "      <th></th>\n",
       "      <th>Заданные вопросы</th>\n",
       "      <th>ID новости</th>\n",
       "      <th>Ответы на вопросы</th>\n",
       "    </tr>\n",
       "  </thead>\n",
       "  <tbody>\n",
       "    <tr>\n",
       "      <th>0</th>\n",
       "      <td>0) Содержит ли текст новости информацию о стро...</td>\n",
       "      <td>ef2730c48257bbee6e68354038acd1ee</td>\n",
       "      <td>[1. Реконструкция реки Мостовой включает в себ...</td>\n",
       "    </tr>\n",
       "    <tr>\n",
       "      <th>1</th>\n",
       "      <td>0) Содержит ли текст новости информацию о стро...</td>\n",
       "      <td>e08e3641050bdabf89c99c518033ff93</td>\n",
       "      <td>[1. Главная проблема в Нижнем Тагиле — отток м...</td>\n",
       "    </tr>\n",
       "    <tr>\n",
       "      <th>2</th>\n",
       "      <td>0) Содержит ли текст новости информацию о стро...</td>\n",
       "      <td>fa2dd0fe1b710cd458ec28ce8e46e3b4</td>\n",
       "      <td>[1. Градостроительно-земельная комиссия (ГЗК) ...</td>\n",
       "    </tr>\n",
       "  </tbody>\n",
       "</table>\n",
       "</div>"
      ],
      "text/plain": [
       "                                    Заданные вопросы  \\\n",
       "0  0) Содержит ли текст новости информацию о стро...   \n",
       "1  0) Содержит ли текст новости информацию о стро...   \n",
       "2  0) Содержит ли текст новости информацию о стро...   \n",
       "\n",
       "                         ID новости  \\\n",
       "0  ef2730c48257bbee6e68354038acd1ee   \n",
       "1  e08e3641050bdabf89c99c518033ff93   \n",
       "2  fa2dd0fe1b710cd458ec28ce8e46e3b4   \n",
       "\n",
       "                                   Ответы на вопросы  \n",
       "0  [1. Реконструкция реки Мостовой включает в себ...  \n",
       "1  [1. Главная проблема в Нижнем Тагиле — отток м...  \n",
       "2  [1. Градостроительно-земельная комиссия (ГЗК) ...  "
      ]
     },
     "execution_count": 26,
     "metadata": {},
     "output_type": "execute_result"
    }
   ],
   "source": [
    "responses = pd.DataFrame(data=npb_list, columns=[\"Заданные вопросы\", \"ID новости\", \"Ответы на вопросы\"])\n",
    "responses.head()"
   ]
  },
  {
   "cell_type": "code",
   "execution_count": 28,
   "metadata": {},
   "outputs": [],
   "source": [
    "responses.to_excel(\"responses.xlsx\")"
   ]
  },
  {
   "cell_type": "code",
   "execution_count": null,
   "metadata": {},
   "outputs": [],
   "source": []
  }
 ],
 "metadata": {
  "kernelspec": {
   "display_name": "venv",
   "language": "python",
   "name": "python3"
  },
  "language_info": {
   "codemirror_mode": {
    "name": "ipython",
    "version": 3
   },
   "file_extension": ".py",
   "mimetype": "text/x-python",
   "name": "python",
   "nbconvert_exporter": "python",
   "pygments_lexer": "ipython3",
   "version": "3.9.7"
  },
  "orig_nbformat": 4
 },
 "nbformat": 4,
 "nbformat_minor": 2
}
