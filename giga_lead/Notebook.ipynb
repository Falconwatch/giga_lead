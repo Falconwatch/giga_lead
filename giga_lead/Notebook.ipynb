{
 "cells": [
  {
   "cell_type": "code",
   "execution_count": 1,
   "metadata": {},
   "outputs": [],
   "source": [
    "from news_leadgen.news_handler import NewsHandler\n",
    "from news_leadgen.dto.newsdto import NewsDTO \n",
    "import pandas as pd"
   ]
  },
  {
   "cell_type": "markdown",
   "metadata": {},
   "source": [
    "# Чтение вопросов к новостям"
   ]
  },
  {
   "cell_type": "code",
   "execution_count": 2,
   "metadata": {},
   "outputs": [],
   "source": [
    "with open(\"questions.txt\", \"r\") as f:\n",
    "    txt =f.read()\n",
    "questions = txt.split('\\n')"
   ]
  },
  {
   "cell_type": "markdown",
   "metadata": {},
   "source": [
    "# Чтение новостей из файла"
   ]
  },
  {
   "cell_type": "code",
   "execution_count": 3,
   "metadata": {},
   "outputs": [],
   "source": [
    "news_data = pd.read_excel(\"data/Отказы MediaAnalysis_text 10М2023.xlsx\", sheet_name=0)[[\"index\", \"text\"]]\n",
    "data = news_data.values\n",
    "\n",
    "\n",
    "all_news = list()\n",
    "for news_arr in data:\n",
    "    all_news.append(NewsDTO(news_id=news_arr[0], text=news_arr[1]))"
   ]
  },
  {
   "cell_type": "markdown",
   "metadata": {},
   "source": [
    "# Обработка новостей"
   ]
  },
  {
   "cell_type": "code",
   "execution_count": 4,
   "metadata": {},
   "outputs": [],
   "source": [
    "nh = NewsHandler(questions = questions)"
   ]
  },
  {
   "cell_type": "code",
   "execution_count": 10,
   "metadata": {},
   "outputs": [
    {
     "name": "stdout",
     "output_type": "stream",
     "text": [
      "Тебе дан список вопросов и одна новость. Ответь на вопросы, при подготовке ответа не фантазируй. \n",
      "        Если не знаешь ответа, так и скажи.\n",
      "        Вопросы:0) Содержит ли текст новости информацию о строительстве, модернизации или расширении какого-либо промышленного, жилого, коммерческого объекта (или его части) или реализации инфраструктурного, инновационного проекта, который банк может профинансировать, ответь только ДА или НЕТ\n",
      "1) Если текст новости содержит информацию о строительстве, модернизации или расширении какого-либо промышленного, жилого, коммерческого объекта (или его части) или реализации инфраструктурного, инновационного проекта, который банк может профинансировать, напиши краткое описание новости на 400 символов.\n",
      "2) Напиши название компании о которой идёт речь в новости\n",
      "3) Напиши регион о котором идёт речь в новости\n",
      "4) Напиши ФИО действующих лиц о которых идёт речь в новости\n",
      "5) Напиши тип инвестиционного проекта: промышленный, жилой, коммерческий, инфраструктурный, инновационный, который содержится в новости, напиши только один тип, если типов несколько выбери приоритетный\n",
      "6) Напиши возможный объём финансирования со стороны банка исходя из текста новости, напиши сумму в рублях и только её.\n",
      "7) Событие строительства, модернизации или расширения какого-либо промышленного, жилого, коммерческого объекта (или его части) или реализации инфраструктурного, инновационного проекта о котором идёт речь в новости уже произошло или речь идет о будущем с точки зрения перспективы финансирования банком, ответь строго ДА или НЕТ\n",
      "8) Напиши квартал и год строительства, модернизации или расширения какого-либо промышленного, жилого, коммерческого объекта (или его части) или реализации инфраструктурного, инновационного проекта о котором идёт речь в новости, напиши квартал и год.\n",
      "9) Происходит ли событие новости в России и ответь только ДА или НЕТ\n",
      "10) За чей счёт будет финансирование исходя из новости, если есть информация, если это банк или организация, напиши только её название,\n",
      "        Новость: None,\n",
      "        Ответы:\n"
     ]
    }
   ],
   "source": [
    "print(nh._get_questions_as_one_prompt())"
   ]
  },
  {
   "cell_type": "markdown",
   "metadata": {},
   "source": [
    "## По одной"
   ]
  },
  {
   "cell_type": "code",
   "execution_count": 11,
   "metadata": {},
   "outputs": [],
   "source": [
    "# возвращается сет: объект с результатом разбора (айди новости, ответ сети) и список заданных сети вопросов\n",
    "one_news_processing_result, _ = nh.process_news(all_news[1])"
   ]
  },
  {
   "cell_type": "code",
   "execution_count": 12,
   "metadata": {},
   "outputs": [
    {
     "data": {
      "text/plain": [
       "ProcessedNewsDTO(news_id='e08e3641050bdabf89c99c518033ff93', processing_result=['1. Главная проблема в Нижнем Тагиле — отток молодежи. Для решения этой проблемы необходимо сделать город более привлекательным для молодежи, предоставить им возможности для получения образования, стабильной работы с хорошим заработком, а также обеспечить доступность яслей и детских садов, школ.\\n2. Рекордный бюджет города позволит реализовать множество проектов по благоустройству города, развитию туризма, созданию комфортных условий для жителей.\\n3. Успевать все это удается благодаря опыту и профессионализму руководства города, а также тесному взаимодействию с жителями и поддержке местных предприятий.'])"
      ]
     },
     "execution_count": 12,
     "metadata": {},
     "output_type": "execute_result"
    }
   ],
   "source": [
    "one_news_processing_result"
   ]
  },
  {
   "cell_type": "markdown",
   "metadata": {},
   "source": [
    "## пачкой"
   ]
  },
  {
   "cell_type": "code",
   "execution_count": 13,
   "metadata": {},
   "outputs": [],
   "source": [
    "#выделяю часть новостей чтобы не ждать обрабутку всех\n",
    "news_batch = all_news[:3]"
   ]
  },
  {
   "cell_type": "code",
   "execution_count": 14,
   "metadata": {},
   "outputs": [],
   "source": [
    "#результат - массив, каждый элемент которого это сет\n",
    "#Состав сета: объект с резултьатом разбора (айди новости, ответ сети) и список заданных сети вопросов\n",
    "news_processing_batch = nh.batch_process_news(news_batch)"
   ]
  },
  {
   "cell_type": "code",
   "execution_count": 15,
   "metadata": {},
   "outputs": [],
   "source": [
    "npb_list = list()\n",
    "for npr in news_processing_batch:\n",
    "    npb_list.append((npr[1], npr[0].news_id, npr[0].processing_result))"
   ]
  },
  {
   "cell_type": "code",
   "execution_count": 16,
   "metadata": {},
   "outputs": [
    {
     "data": {
      "text/html": [
       "<div>\n",
       "<style scoped>\n",
       "    .dataframe tbody tr th:only-of-type {\n",
       "        vertical-align: middle;\n",
       "    }\n",
       "\n",
       "    .dataframe tbody tr th {\n",
       "        vertical-align: top;\n",
       "    }\n",
       "\n",
       "    .dataframe thead th {\n",
       "        text-align: right;\n",
       "    }\n",
       "</style>\n",
       "<table border=\"1\" class=\"dataframe\">\n",
       "  <thead>\n",
       "    <tr style=\"text-align: right;\">\n",
       "      <th></th>\n",
       "      <th>Заданные вопросы</th>\n",
       "      <th>ID новости</th>\n",
       "      <th>Ответы на вопросы</th>\n",
       "    </tr>\n",
       "  </thead>\n",
       "  <tbody>\n",
       "    <tr>\n",
       "      <th>0</th>\n",
       "      <td>0) Содержит ли текст новости информацию о стро...</td>\n",
       "      <td>ef2730c48257bbee6e68354038acd1ee</td>\n",
       "      <td>[1. Реконструкция реки Мостовой включает в себ...</td>\n",
       "    </tr>\n",
       "    <tr>\n",
       "      <th>1</th>\n",
       "      <td>0) Содержит ли текст новости информацию о стро...</td>\n",
       "      <td>e08e3641050bdabf89c99c518033ff93</td>\n",
       "      <td>[1. Главная проблема в Нижнем Тагиле — отток м...</td>\n",
       "    </tr>\n",
       "    <tr>\n",
       "      <th>2</th>\n",
       "      <td>0) Содержит ли текст новости информацию о стро...</td>\n",
       "      <td>fa2dd0fe1b710cd458ec28ce8e46e3b4</td>\n",
       "      <td>[1. Градостроительно-земельная комиссия (ГЗК) ...</td>\n",
       "    </tr>\n",
       "  </tbody>\n",
       "</table>\n",
       "</div>"
      ],
      "text/plain": [
       "                                    Заданные вопросы  \\\n",
       "0  0) Содержит ли текст новости информацию о стро...   \n",
       "1  0) Содержит ли текст новости информацию о стро...   \n",
       "2  0) Содержит ли текст новости информацию о стро...   \n",
       "\n",
       "                         ID новости  \\\n",
       "0  ef2730c48257bbee6e68354038acd1ee   \n",
       "1  e08e3641050bdabf89c99c518033ff93   \n",
       "2  fa2dd0fe1b710cd458ec28ce8e46e3b4   \n",
       "\n",
       "                                   Ответы на вопросы  \n",
       "0  [1. Реконструкция реки Мостовой включает в себ...  \n",
       "1  [1. Главная проблема в Нижнем Тагиле — отток м...  \n",
       "2  [1. Градостроительно-земельная комиссия (ГЗК) ...  "
      ]
     },
     "execution_count": 16,
     "metadata": {},
     "output_type": "execute_result"
    }
   ],
   "source": [
    "pd.DataFrame(data=npb_list, columns=[\"Заданные вопросы\", \"ID новости\", \"Ответы на вопросы\"])"
   ]
  },
  {
   "cell_type": "code",
   "execution_count": null,
   "metadata": {},
   "outputs": [],
   "source": []
  }
 ],
 "metadata": {
  "kernelspec": {
   "display_name": "venv",
   "language": "python",
   "name": "python3"
  },
  "language_info": {
   "codemirror_mode": {
    "name": "ipython",
    "version": 3
   },
   "file_extension": ".py",
   "mimetype": "text/x-python",
   "name": "python",
   "nbconvert_exporter": "python",
   "pygments_lexer": "ipython3",
   "version": "3.10.0"
  },
  "orig_nbformat": 4
 },
 "nbformat": 4,
 "nbformat_minor": 2
}
